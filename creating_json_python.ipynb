{
  "nbformat": 4,
  "nbformat_minor": 0,
  "metadata": {
    "colab": {
      "provenance": []
    },
    "kernelspec": {
      "name": "python3",
      "display_name": "Python 3"
    },
    "language_info": {
      "name": "python"
    }
  },
  "cells": [
    {
      "cell_type": "code",
      "source": [
        "import pandas as pd"
      ],
      "metadata": {
        "id": "BmqfVwtksStk"
      },
      "execution_count": null,
      "outputs": []
    },
    {
      "cell_type": "code",
      "source": [
        "data={\n",
        "    'name':['Alice','Bob','Claire'],\n",
        "    'age':[25,30,27],\n",
        "    'gender':['Female','Male','Female']\n",
        "}\n"
      ],
      "metadata": {
        "id": "UoSVxx_hsaAZ"
      },
      "execution_count": null,
      "outputs": []
    },
    {
      "cell_type": "code",
      "source": [
        "df=pd.DataFrame(data)"
      ],
      "metadata": {
        "id": "RpNGqWhjtBZv"
      },
      "execution_count": null,
      "outputs": []
    },
    {
      "cell_type": "code",
      "source": [
        "df.to_json('data.json',orient='records',indent=4)"
      ],
      "metadata": {
        "id": "8J88yn7TtI2Q"
      },
      "execution_count": null,
      "outputs": []
    },
    {
      "cell_type": "code",
      "source": [
        "json_output=df.to_json(orient='records',indent=4)"
      ],
      "metadata": {
        "id": "CyUeDRMetl46"
      },
      "execution_count": null,
      "outputs": []
    },
    {
      "cell_type": "code",
      "source": [
        "print(json_output)"
      ],
      "metadata": {
        "colab": {
          "base_uri": "https://localhost:8080/"
        },
        "id": "OOFVSHEtuQjY",
        "outputId": "609c3b21-b78a-42b3-9b0c-c3180ee16ca4"
      },
      "execution_count": null,
      "outputs": [
        {
          "output_type": "stream",
          "name": "stdout",
          "text": [
            "[\n",
            "    {\n",
            "        \"name\":\"Alice\",\n",
            "        \"age\":25,\n",
            "        \"gender\":\"Female\"\n",
            "    },\n",
            "    {\n",
            "        \"name\":\"Bob\",\n",
            "        \"age\":30,\n",
            "        \"gender\":\"Male\"\n",
            "    },\n",
            "    {\n",
            "        \"name\":\"Claire\",\n",
            "        \"age\":27,\n",
            "        \"gender\":\"Female\"\n",
            "    }\n",
            "]\n"
          ]
        }
      ]
    },
    {
      "cell_type": "code",
      "source": [],
      "metadata": {
        "id": "88APxZz_vC-w"
      },
      "execution_count": null,
      "outputs": []
    }
  ]
}